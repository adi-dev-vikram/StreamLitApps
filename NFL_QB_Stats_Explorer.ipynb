{
  "cells": [
    {
      "cell_type": "markdown",
      "metadata": {
        "id": "view-in-github",
        "colab_type": "text"
      },
      "source": [
        "<a href=\"https://colab.research.google.com/github/adi-dev-vikram/StreamLitApps/blob/main/NFL_QB_Stats_Explorer.ipynb\" target=\"_parent\"><img src=\"https://colab.research.google.com/assets/colab-badge.svg\" alt=\"Open In Colab\"/></a>"
      ]
    },
    {
      "cell_type": "code",
      "execution_count": null,
      "metadata": {
        "colab": {
          "base_uri": "https://localhost:8080/"
        },
        "id": "GoejEgFr1KSE",
        "outputId": "88ba1714-2179-48a0-e990-b97d3f016f58"
      },
      "outputs": [
        {
          "output_type": "stream",
          "name": "stdout",
          "text": [
            "\u001b[K     |████████████████████████████████| 9.2 MB 8.3 MB/s \n",
            "\u001b[K     |████████████████████████████████| 76 kB 4.2 MB/s \n",
            "\u001b[K     |████████████████████████████████| 164 kB 57.2 MB/s \n",
            "\u001b[K     |████████████████████████████████| 180 kB 45.9 MB/s \n",
            "\u001b[K     |████████████████████████████████| 111 kB 52.0 MB/s \n",
            "\u001b[K     |████████████████████████████████| 4.3 MB 47.2 MB/s \n",
            "\u001b[K     |████████████████████████████████| 63 kB 1.5 MB/s \n",
            "\u001b[K     |████████████████████████████████| 126 kB 55.9 MB/s \n",
            "\u001b[K     |████████████████████████████████| 791 kB 50.3 MB/s \n",
            "\u001b[K     |████████████████████████████████| 374 kB 56.9 MB/s \n",
            "\u001b[?25h  Building wheel for blinker (setup.py) ... \u001b[?25l\u001b[?25hdone\n",
            "\u001b[31mERROR: pip's dependency resolver does not currently take into account all the packages that are installed. This behaviour is the source of the following dependency conflicts.\n",
            "jupyter-console 5.2.0 requires prompt-toolkit<2.0.0,>=1.0.0, but you have prompt-toolkit 3.0.24 which is incompatible.\n",
            "google-colab 1.0.0 requires ipykernel~=4.10, but you have ipykernel 6.6.0 which is incompatible.\n",
            "google-colab 1.0.0 requires ipython~=5.5.0, but you have ipython 7.30.1 which is incompatible.\u001b[0m\n"
          ]
        }
      ],
      "source": [
        "!pip install -q streamlit"
      ]
    },
    {
      "cell_type": "code",
      "execution_count": null,
      "metadata": {
        "colab": {
          "base_uri": "https://localhost:8080/"
        },
        "id": "W3b5CPNt1TTO",
        "outputId": "b1e6d2eb-53a7-4594-ad31-65a825bd376b"
      },
      "outputs": [
        {
          "output_type": "stream",
          "name": "stdout",
          "text": [
            "Overwriting app.py\n"
          ]
        }
      ],
      "source": [
        "%%writefile app.py\n",
        "import streamlit as st\n",
        "import pandas as pd\n",
        "import base64\n",
        "import matplotlib.pyplot as plt\n",
        "import seaborn as sns\n",
        "import numpy as np\n",
        "\n",
        "#qbs now adding more tds add this later\n",
        "\n",
        "st.title('NFL Overall QB Stats Explorer')\n",
        "\n",
        "st.markdown(\"\"\"\n",
        "This app performs simple webscraping of NFL player stats focused on QBs wrt to their teams performance!\n",
        "* **Data source:** [pro-football-reference.com](https://www.pro-football-reference.com/).\n",
        "\"\"\")\n",
        "\n",
        "# for eg https://www.pro-football-reference.com/players/R/RodgAa00.htm created from name: Aaron Rodgers\n",
        "def create_search_query(name):\n",
        "  name_list = name.split()\n",
        "  first_str = name_list[1][0:4]\n",
        "  second_str = name_list[0][0:2]\n",
        "  search_str = \"https://www.pro-football-reference.com/players/\" + str(list(name_list[1])[0]) + \"/\" + first_str + second_str + \"00.htm\"\n",
        "  df_list = pd.read_html(search_str)[1]\n",
        "  st.title(\"This guys stats\")  # add a title\n",
        "  st.write(df_list)\n",
        "\n",
        "\n",
        "\n",
        "st.sidebar.header('User Input Features')\n",
        "selected_year = st.sidebar.selectbox('Year', list(reversed(range(2010,2021))))\n",
        "qb_name = st.text_input(\"Enter the QB's name : \", \"Type Here ...\")\n",
        "\n",
        "if(st.button('Submit')):\n",
        "    result = qb_name.title()\n",
        "    create_search_query(result)\n",
        "    st.success(result)\n",
        "\n",
        "\n",
        "@st.cache\n",
        "def load_data(year):\n",
        "    url = \"https://www.pro-football-reference.com/years/\" + str(year) + \"/passing.htm\"\n",
        "    df_list = pd.read_html(url)[0]\n",
        "    df_list=df_list.drop('Rk', 1)\n",
        "    playerstats = df_list\n",
        "    return playerstats\n",
        "playerstats = load_data(selected_year)\n",
        "\n",
        "# Sidebar - Team selection\n",
        "sorted_unique_team = sorted(playerstats.Tm.unique())\n",
        "selected_team = st.sidebar.multiselect('Team', sorted_unique_team, sorted_unique_team)\n",
        "\n",
        "# Sidebar - Position selection\n",
        "unique_pos = ['RB','QB','WR','FB','TE']\n",
        "selected_pos = st.sidebar.multiselect('Position', unique_pos, unique_pos)\n",
        "\n",
        "# Filtering data\n",
        "df_selected_team = playerstats[(playerstats.Tm.isin(selected_team)) & (playerstats.Pos.isin(selected_pos))]\n",
        "\n",
        "st.header('Display Player Stats of Selected Team(s)')\n",
        "st.write('Data Dimension: ' + str(df_selected_team.shape[0]) + ' rows and ' + str(df_selected_team.shape[1]) + ' columns.')\n",
        "st.dataframe(df_selected_team)\n",
        "\n",
        "# Download NBA player stats data\n",
        "# https://discuss.streamlit.io/t/how-to-download-file-in-streamlit/1806\n",
        "def filedownload(df):\n",
        "    csv = df.to_csv(index=False)\n",
        "    b64 = base64.b64encode(csv.encode()).decode()  # strings <-> bytes conversions\n",
        "    href = f'<a href=\"data:file/csv;base64,{b64}\" download=\"playerstats.csv\">Download CSV File</a>'\n",
        "    return href\n",
        "\n",
        "st.markdown(filedownload(df_selected_team), unsafe_allow_html=True)\n",
        "\n",
        "# Heatmap\n",
        "if st.button('Intercorrelation Heatmap'):\n",
        "    st.header('Intercorrelation Matrix Heatmap')\n",
        "    df_selected_team.to_csv('output.csv',index=False)\n",
        "    df = pd.read_csv('output.csv')\n",
        "\n",
        "    corr = df.corr()\n",
        "    mask = np.zeros_like(corr)\n",
        "    mask[np.triu_indices_from(mask)] = True\n",
        "    with sns.axes_style(\"white\"):\n",
        "        f, ax = plt.subplots(figsize=(7, 5))\n",
        "        ax = sns.heatmap(corr, mask=mask, vmax=1, square=True)\n",
        "    st.pyplot()"
      ]
    },
    {
      "cell_type": "code",
      "execution_count": null,
      "metadata": {
        "colab": {
          "base_uri": "https://localhost:8080/"
        },
        "id": "4IeIkjAwgeyj",
        "outputId": "ed2414d6-59b9-4d25-af49-5ca2326490bd"
      },
      "outputs": [
        {
          "name": "stdout",
          "output_type": "stream",
          "text": [
            "Collecting pyngrok\n",
            "  Downloading pyngrok-5.1.0.tar.gz (745 kB)\n",
            "\u001b[K     |████████████████████████████████| 745 kB 5.4 MB/s \n",
            "\u001b[?25hRequirement already satisfied: PyYAML in /usr/local/lib/python3.7/dist-packages (from pyngrok) (3.13)\n",
            "Building wheels for collected packages: pyngrok\n",
            "  Building wheel for pyngrok (setup.py) ... \u001b[?25l\u001b[?25hdone\n",
            "  Created wheel for pyngrok: filename=pyngrok-5.1.0-py3-none-any.whl size=19006 sha256=f3ac02084d10b0ffbc03f78af1055116004d563a4997623053bacc5ce2817ee1\n",
            "  Stored in directory: /root/.cache/pip/wheels/bf/e6/af/ccf6598ecefecd44104069371795cb9b3afbcd16987f6ccfb3\n",
            "Successfully built pyngrok\n",
            "Installing collected packages: pyngrok\n",
            "Successfully installed pyngrok-5.1.0\n"
          ]
        }
      ],
      "source": [
        "!pip install pyngrok"
      ]
    },
    {
      "cell_type": "code",
      "execution_count": null,
      "metadata": {
        "id": "jc7P7K2mgurk"
      },
      "outputs": [],
      "source": [
        "from pyngrok import ngrok"
      ]
    },
    {
      "cell_type": "code",
      "execution_count": null,
      "metadata": {
        "colab": {
          "base_uri": "https://localhost:8080/"
        },
        "id": "W0gfcYra4TY2",
        "outputId": "97dfed9a-29bf-48c8-97d2-198dc503207a"
      },
      "outputs": [
        {
          "name": "stdout",
          "output_type": "stream",
          "text": [
            "--2021-12-17 05:33:11--  https://bin.equinox.io/c/4VmDzA7iaHb/ngrok-stable-linux-amd64.zip\n",
            "Resolving bin.equinox.io (bin.equinox.io)... 54.237.133.81, 54.161.241.46, 18.205.222.128, ...\n",
            "Connecting to bin.equinox.io (bin.equinox.io)|54.237.133.81|:443... connected.\n",
            "HTTP request sent, awaiting response... 200 OK\n",
            "Length: 13832437 (13M) [application/octet-stream]\n",
            "Saving to: ‘ngrok-stable-linux-amd64.zip’\n",
            "\n",
            "ngrok-stable-linux- 100%[===================>]  13.19M  3.33MB/s    in 5.0s    \n",
            "\n",
            "2021-12-17 05:33:16 (2.66 MB/s) - ‘ngrok-stable-linux-amd64.zip’ saved [13832437/13832437]\n",
            "\n"
          ]
        }
      ],
      "source": [
        "!wget https://bin.equinox.io/c/4VmDzA7iaHb/ngrok-stable-linux-amd64.zip"
      ]
    },
    {
      "cell_type": "code",
      "execution_count": null,
      "metadata": {
        "colab": {
          "base_uri": "https://localhost:8080/"
        },
        "id": "7KkqSfS74WX4",
        "outputId": "595f7b3c-fcd8-47c6-804e-9776624e5975"
      },
      "outputs": [
        {
          "name": "stdout",
          "output_type": "stream",
          "text": [
            "Archive:  ngrok-stable-linux-amd64.zip\n",
            "  inflating: ngrok                   \n"
          ]
        }
      ],
      "source": [
        "!unzip ngrok-stable-linux-amd64.zip"
      ]
    },
    {
      "cell_type": "code",
      "execution_count": null,
      "metadata": {
        "id": "LRLXRGnn4ZxS"
      },
      "outputs": [],
      "source": [
        "get_ipython().system_raw('./ngrok http 8501 &')"
      ]
    },
    {
      "cell_type": "code",
      "execution_count": null,
      "metadata": {
        "colab": {
          "base_uri": "https://localhost:8080/"
        },
        "id": "raiNHG6b4eM5",
        "outputId": "341da28e-5614-4874-d6bf-063d01a01372"
      },
      "outputs": [
        {
          "name": "stdout",
          "output_type": "stream",
          "text": [
            "Execute the next cell and the go to the following URL: http://a228-34-125-39-45.ngrok.io\n"
          ]
        }
      ],
      "source": [
        "!curl -s http://localhost:4040/api/tunnels | python3 -c \\\n",
        "    'import sys, json; print(\"Execute the next cell and the go to the following URL: \" +json.load(sys.stdin)[\"tunnels\"][0][\"public_url\"])'"
      ]
    },
    {
      "cell_type": "code",
      "execution_count": null,
      "metadata": {
        "colab": {
          "base_uri": "https://localhost:8080/"
        },
        "id": "63pLDKEk4e1p",
        "outputId": "be1ef87c-7323-4a6d-c7d5-3801a65af4d0"
      },
      "outputs": [
        {
          "output_type": "stream",
          "name": "stdout",
          "text": [
            "\u001b[K\u001b[?25hnpx: installed 22 in 2.839s\n",
            "\u001b[0m\n",
            "\u001b[34m\u001b[1m  You can now view your Streamlit app in your browser.\u001b[0m\n",
            "\u001b[0m\n",
            "\u001b[34m  Network URL: \u001b[0m\u001b[1mhttp://172.28.0.2:8501\u001b[0m\n",
            "\u001b[34m  External URL: \u001b[0m\u001b[1mhttp://35.227.152.65:8501\u001b[0m\n",
            "\u001b[0m\n",
            "your url is: https://shaggy-goat-22.loca.lt\n",
            "2021-12-27 10:23:25.248 NumExpr defaulting to 2 threads.\n"
          ]
        }
      ],
      "source": [
        "!streamlit run app.py & npx localtunnel --port 8501"
      ]
    },
    {
      "cell_type": "markdown",
      "metadata": {
        "id": "AXt1qk6U4jmU"
      },
      "source": [
        "# New Section"
      ]
    }
  ],
  "metadata": {
    "colab": {
      "name": "NFL QB Stats Explorer",
      "provenance": [],
      "collapsed_sections": [],
      "authorship_tag": "ABX9TyO54nMBt5eQioF8CNKR/Kyt",
      "include_colab_link": true
    },
    "kernelspec": {
      "display_name": "Python 3",
      "name": "python3"
    },
    "language_info": {
      "name": "python"
    }
  },
  "nbformat": 4,
  "nbformat_minor": 0
}